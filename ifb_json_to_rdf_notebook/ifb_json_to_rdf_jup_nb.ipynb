{
 "cells": [
  {
   "cell_type": "code",
   "execution_count": 13,
   "metadata": {},
   "outputs": [],
   "source": [
    "import ifb_json_to_rdf\n",
    "import ifb_logs\n",
    "import requests"
   ]
  },
  {
   "cell_type": "code",
   "execution_count": 14,
   "metadata": {},
   "outputs": [],
   "source": [
    "# setting timeout for requests\n",
    "TIMEOUT = (10, 300)"
   ]
  },
  {
   "cell_type": "code",
   "execution_count": 15,
   "metadata": {},
   "outputs": [],
   "source": [
    "# prepare connection / login informations\n",
    "name = ifb_logs.getName()\n",
    "password = ifb_logs.getPassword()\n",
    "payload = {'name': name, 'pass': password, 'form_id': 'user_login', 'op': 'Log in'}"
   ]
  },
  {
   "cell_type": "code",
   "execution_count": 16,
   "metadata": {},
   "outputs": [
    {
     "name": "stdout",
     "output_type": "stream",
     "text": [
      "Opening IFB session...\n",
      "Connected !\n"
     ]
    }
   ],
   "source": [
    "# opening a session\n",
    "with requests.Session() as s:\n",
    "\n",
    "    #log in user\n",
    "    print(\"Opening IFB session...\")\n",
    "    while True:\n",
    "        try:\n",
    "            p = s.post('https://www.france-bioinformatique.fr/user', data=payload, timeout=TIMEOUT)\n",
    "            print(\"Connected !\")\n",
    "            break\n",
    "        except requests.exceptions.ConnectionError as e:\n",
    "            print(str(e) + \"\\nRetrying...\")\n",
    "            time.sleep(10)"
   ]
  },
  {
   "cell_type": "code",
   "execution_count": 17,
   "metadata": {},
   "outputs": [
    {
     "name": "stdout",
     "output_type": "stream",
     "text": [
      "Requesting node 324 ...\n",
      "Done\n"
     ]
    }
   ],
   "source": [
    "# requests and json_view_export on corresponding node\n",
    "node = \"324\"\n",
    "print(\"Requesting node \" + node + \" ...\")\n",
    "json_result = ifb_json_to_rdf.requestsIFB('https://www.france-bioinformatique.fr/fr/node/' + node + '/node_export/json', s)"
   ]
  },
  {
   "cell_type": "code",
   "execution_count": 18,
   "metadata": {},
   "outputs": [
    {
     "name": "stdout",
     "output_type": "stream",
     "text": [
      "[\n",
      "  {\n",
      "    \"@id\": \"https://www.france-bioinformatique.fr/platforms/tagc-bcf\",\n",
      "    \"@type\": [\n",
      "      \"http://schema.org/LaboratoryScience\"\n",
      "    ],\n",
      "    \"http://purl.org/dc/terms/created\": [\n",
      "      {\n",
      "        \"@value\": \"2015-07-24T14:09:20+02:00\"\n",
      "      }\n",
      "    ],\n",
      "    \"http://purl.org/dc/terms/modified\": [\n",
      "      {\n",
      "        \"@value\": \"2019-03-05T16:22:26+01:00\"\n",
      "      }\n",
      "    ],\n",
      "    \"http://schema.org/name\": [\n",
      "      {\n",
      "        \"@value\": \"TAGC-BCF\"\n",
      "      }\n",
      "    ],\n",
      "    \"http://www.w3.org/ns/org#Organization\": [\n",
      "      {\n",
      "        \"@id\": \"_:N0f0c4983353e44c78c3106f13daa7cb9\"\n",
      "      }\n",
      "    ],\n",
      "    \"http://www.w3.org/ns/org#hasSite\": [\n",
      "      {\n",
      "        \"@id\": \"_:Naa4c43a149a748038d114a594b002317\"\n",
      "      }\n",
      "    ],\n",
      "    \"http://www.w3.org/ns/org#siteAddress\": [\n",
      "      {\n",
      "        \"@id\": \"_:Nddd80dc128c4422cabe6b24eba01b482\"\n",
      "      }\n",
      "    ]\n",
      "  },\n",
      "  {\n",
      "    \"@id\": \"_:Nddd80dc128c4422cabe6b24eba01b482\",\n",
      "    \"@type\": [\n",
      "      \"http://schema.org/PostalAddress\"\n",
      "    ],\n",
      "    \"http://schema.org/addressCountry\": [\n",
      "      {\n",
      "        \"@value\": \"FR\"\n",
      "      }\n",
      "    ],\n",
      "    \"http://schema.org/addressLocality\": [\n",
      "      {\n",
      "        \"@value\": \"Marseille\"\n",
      "      }\n",
      "    ],\n",
      "    \"http://schema.org/postOfficeBoxNumber\": [\n",
      "      {\n",
      "        \"@value\": \"Parc Scientifique de Luminy case 928\"\n",
      "      }\n",
      "    ],\n",
      "    \"http://schema.org/postalCode\": [\n",
      "      {\n",
      "        \"@value\": \"13288\"\n",
      "      }\n",
      "    ],\n",
      "    \"http://schema.org/streetAddress\": [\n",
      "      {\n",
      "        \"@value\": \"163 avenue de Luminy\"\n",
      "      }\n",
      "    ]\n",
      "  },\n",
      "  {\n",
      "    \"@id\": \"_:N0f0c4983353e44c78c3106f13daa7cb9\",\n",
      "    \"@type\": [\n",
      "      \"http://www.w3.org/ns/org#Organization\"\n",
      "    ],\n",
      "    \"http://schema.org/identifier\": [\n",
      "      {\n",
      "        \"@value\": \"129\"\n",
      "      }\n",
      "    ]\n",
      "  },\n",
      "  {\n",
      "    \"@id\": \"_:Naa4c43a149a748038d114a594b002317\",\n",
      "    \"@type\": [\n",
      "      \"http://schema.org/WebSite\"\n",
      "    ],\n",
      "    \"http://schema.org/name\": [\n",
      "      {\n",
      "        \"@value\": \"TAGC\"\n",
      "      }\n",
      "    ],\n",
      "    \"http://schema.org/url\": [\n",
      "      {\n",
      "        \"@value\": \"https://tagc.univ-amu.fr\"\n",
      "      }\n",
      "    ]\n",
      "  }\n",
      "]\n"
     ]
    }
   ],
   "source": [
    "# add rdf marksup\n",
    "if json_result['type'] == 'outil' or json_result['type'] == 'plateforme':\n",
    "    ifb_json_to_rdf.rdfize(json_result)"
   ]
  },
  {
   "cell_type": "code",
   "execution_count": null,
   "metadata": {},
   "outputs": [],
   "source": []
  }
 ],
 "metadata": {
  "kernelspec": {
   "display_name": "Python 3",
   "language": "python",
   "name": "python3"
  },
  "language_info": {
   "codemirror_mode": {
    "name": "ipython",
    "version": 3
   },
   "file_extension": ".py",
   "mimetype": "text/x-python",
   "name": "python",
   "nbconvert_exporter": "python",
   "pygments_lexer": "ipython3",
   "version": "3.6.8"
  }
 },
 "nbformat": 4,
 "nbformat_minor": 2
}
