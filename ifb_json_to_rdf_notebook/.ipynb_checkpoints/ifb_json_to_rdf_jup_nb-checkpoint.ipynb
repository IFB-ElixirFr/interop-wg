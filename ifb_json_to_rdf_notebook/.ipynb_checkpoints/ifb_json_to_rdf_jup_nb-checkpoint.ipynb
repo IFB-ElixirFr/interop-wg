{
 "cells": [
  {
   "cell_type": "code",
   "execution_count": 1,
   "metadata": {},
   "outputs": [],
   "source": [
    "import ifb_json_to_rdf\n",
    "import ifb_logs\n",
    "import requests"
   ]
  },
  {
   "cell_type": "code",
   "execution_count": 2,
   "metadata": {},
   "outputs": [],
   "source": [
    "# setting timeout for requests\n",
    "TIMEOUT = (10, 300)"
   ]
  },
  {
   "cell_type": "code",
   "execution_count": 3,
   "metadata": {},
   "outputs": [],
   "source": [
    "# prepare connection / login informations\n",
    "name = ifb_logs.getName()\n",
    "password = ifb_logs.getPassword()\n",
    "payload = {'name': name, 'pass': password, 'form_id': 'user_login', 'op': 'Log in'}"
   ]
  },
  {
   "cell_type": "code",
   "execution_count": 4,
   "metadata": {},
   "outputs": [
    {
     "name": "stdout",
     "output_type": "stream",
     "text": [
      "Opening IFB session...\n",
      "Connected !\n"
     ]
    }
   ],
   "source": [
    "# opening a session\n",
    "with requests.Session() as s:\n",
    "\n",
    "    #log in user\n",
    "    print(\"Opening IFB session...\")\n",
    "    while True:\n",
    "        try:\n",
    "            p = s.post('https://www.france-bioinformatique.fr/user', data=payload, timeout=TIMEOUT)\n",
    "            print(\"Connected !\")\n",
    "            break\n",
    "        except requests.exceptions.ConnectionError as e:\n",
    "            print(str(e) + \"\\nRetrying...\")\n",
    "            time.sleep(10)"
   ]
  },
  {
   "cell_type": "code",
   "execution_count": 5,
   "metadata": {},
   "outputs": [
    {
     "name": "stdout",
     "output_type": "stream",
     "text": [
      "Requesting node 324 ...\n"
     ]
    },
    {
     "ename": "NameError",
     "evalue": "name 'requestsIFB' is not defined",
     "output_type": "error",
     "traceback": [
      "\u001b[0;31m---------------------------------------------------------------------------\u001b[0m",
      "\u001b[0;31mNameError\u001b[0m                                 Traceback (most recent call last)",
      "\u001b[0;32m<ipython-input-5-0fbfd33f1ede>\u001b[0m in \u001b[0;36m<module>\u001b[0;34m\u001b[0m\n\u001b[1;32m      2\u001b[0m \u001b[0mnode\u001b[0m \u001b[0;34m=\u001b[0m \u001b[0;34m\"324\"\u001b[0m\u001b[0;34m\u001b[0m\u001b[0;34m\u001b[0m\u001b[0m\n\u001b[1;32m      3\u001b[0m \u001b[0mprint\u001b[0m\u001b[0;34m(\u001b[0m\u001b[0;34m\"Requesting node \"\u001b[0m \u001b[0;34m+\u001b[0m \u001b[0mnode\u001b[0m \u001b[0;34m+\u001b[0m \u001b[0;34m\" ...\"\u001b[0m\u001b[0;34m)\u001b[0m\u001b[0;34m\u001b[0m\u001b[0;34m\u001b[0m\u001b[0m\n\u001b[0;32m----> 4\u001b[0;31m \u001b[0mjson_result\u001b[0m \u001b[0;34m=\u001b[0m \u001b[0mrequestsIFB\u001b[0m\u001b[0;34m(\u001b[0m\u001b[0;34m'https://www.france-bioinformatique.fr/fr/node/'\u001b[0m \u001b[0;34m+\u001b[0m \u001b[0mnode\u001b[0m \u001b[0;34m+\u001b[0m \u001b[0;34m'/node_export/json'\u001b[0m\u001b[0;34m,\u001b[0m \u001b[0ms\u001b[0m\u001b[0;34m)\u001b[0m\u001b[0;34m\u001b[0m\u001b[0;34m\u001b[0m\u001b[0m\n\u001b[0m",
      "\u001b[0;31mNameError\u001b[0m: name 'requestsIFB' is not defined"
     ]
    }
   ],
   "source": [
    "# requests and json_view_export on corresponding node\n",
    "node = \"324\"\n",
    "print(\"Requesting node \" + node + \" ...\")\n",
    "json_result = ifb_json_to_rdf.requestsIFB('https://www.france-bioinformatique.fr/fr/node/' + node + '/node_export/json', s)"
   ]
  },
  {
   "cell_type": "code",
   "execution_count": null,
   "metadata": {},
   "outputs": [],
   "source": [
    "# add rdf marksup\n",
    "if json_result['type'] == 'outil' or json_result['type'] == 'plateforme':\n",
    "    ifb_json_to_rdf.rdfize(json_result)"
   ]
  }
 ],
 "metadata": {
  "kernelspec": {
   "display_name": "Python 3",
   "language": "python",
   "name": "python3"
  },
  "language_info": {
   "codemirror_mode": {
    "name": "ipython",
    "version": 3
   },
   "file_extension": ".py",
   "mimetype": "text/x-python",
   "name": "python",
   "nbconvert_exporter": "python",
   "pygments_lexer": "ipython3",
   "version": "3.6.8"
  }
 },
 "nbformat": 4,
 "nbformat_minor": 2
}
